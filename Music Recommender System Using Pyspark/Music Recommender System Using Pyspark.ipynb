{
 "cells": [
  {
   "cell_type": "markdown",
   "id": "6973b062",
   "metadata": {},
   "source": [
    "# Music Recommender System Using Pyspark"
   ]
  },
  {
   "cell_type": "markdown",
   "id": "3d9cc9d4",
   "metadata": {},
   "source": [
    "Nowadays, recommender systems are everywhere. for example, Amazon uses recommender systems to suggest some products that you might be interested in based on the products you've bought earlier. Or Spotify will suggest new tracks based on the songs you use to listen to every day. Most of these recommender systems use some algorithms which are based on Matrix factorization such as NMF( NON NEGATIVE MATRIX FACTORIZATION) or ALS (Alternating Least Square).\n",
    "\n",
    "So in this Project, we are going to use ALS Algorithm to create a Music Recommender system to suggest new tracks to different users based upon the songs they've been listening to."
   ]
  },
  {
   "cell_type": "markdown",
   "id": "3fba04da",
   "metadata": {},
   "source": [
    "### Import Libraries"
   ]
  },
  {
   "cell_type": "code",
   "execution_count": 1,
   "id": "3aff5d03",
   "metadata": {},
   "outputs": [],
   "source": [
    "# Importing the modules\n",
    "from pyspark.sql import SparkSession\n",
    "from pyspark.sql.functions import count, desc , col, max\n",
    "from pyspark.ml.feature import  StringIndexer\n",
    "from pyspark.ml import Pipeline\n",
    "from pyspark.ml.recommendation import ALS\n",
    "from pyspark.ml.tuning import TrainValidationSplit, ParamGridBuilder"
   ]
  },
  {
   "cell_type": "code",
   "execution_count": 2,
   "id": "8e3866f1",
   "metadata": {},
   "outputs": [],
   "source": [
    "# Creating Spark Session\n",
    "spark = SparkSession.builder.appName(\"lastfm\").getOrCreate()"
   ]
  },
  {
   "cell_type": "markdown",
   "id": "f3d8003b",
   "metadata": {},
   "source": [
    "### Load Dataset"
   ]
  },
  {
   "cell_type": "code",
   "execution_count": 17,
   "id": "1e5a34e4",
   "metadata": {},
   "outputs": [
    {
     "name": "stdout",
     "output_type": "stream",
     "text": [
      "+-----------+-------------+--------------------+---------------+--------------------+\n",
      "|    user_id|         date|               track|         artist|               album|\n",
      "+-----------+-------------+--------------------+---------------+--------------------+\n",
      "|000Silenced|1299680100000|           Price Tag|       Jessie J|         Who You Are|\n",
      "|000Silenced|1299679920000|Price Tag (Acoust...|       Jessie J|           Price Tag|\n",
      "|000Silenced|1299679440000|Be Mine! (Ballad ...|          Robyn|            Be Mine!|\n",
      "|000Silenced|1299679200000|            Acapella|          Kelis|            Acapella|\n",
      "|000Silenced|1299675660000|   I'm Not Invisible|      The Tease|   I'm Not Invisible|\n",
      "|000Silenced|1297511400000|Bounce (Feat NORE...|       MSTRKRFT|         Fist of God|\n",
      "|000Silenced|1294498440000|Don't Stop The Mu...|        Rihanna|Addicted 2 Bassli...|\n",
      "|000Silenced|1292438340000|               ObZen|      Meshuggah|               ObZen|\n",
      "|000Silenced|1292437740000|   Yama's Messengers|         Gojira|The Way of All Flesh|\n",
      "|000Silenced|1292436360000|On the Brink of E...|   Napalm Death|Time Waits For No...|\n",
      "|000Silenced|1292436360000|On the Brink of E...|   Napalm Death|Time Waits For No...|\n",
      "|000Silenced|1292435940000|        In Deference|   Napalm Death|      Smear Campaign|\n",
      "|000Silenced|1292434920000|      Post(?)organic|    Decapitated|Organic Hallucinosis|\n",
      "|000Silenced|1292434560000|        Mind Feeders|   Dom & Roland| No Strings Attached|\n",
      "|000Silenced|1292434320000|Necrosadistic War...|Cannibal Corpse|                Kill|\n",
      "|000Silenced|1292365560000|     Dance All Night|   Dom & Roland|          Chronology|\n",
      "|000Silenced|1292365260000|          Late Night|   Dom & Roland|          Chronology|\n",
      "|000Silenced|1292365020000|          Freak Seen|   Dom & Roland|          Chronology|\n",
      "|000Silenced|1292364720000|Paradrenasite (Hi...|   Dom & Roland|          Chronology|\n",
      "|000Silenced|1292364300000|               Rhino|   Dom & Roland|          Chronology|\n",
      "+-----------+-------------+--------------------+---------------+--------------------+\n",
      "only showing top 20 rows\n",
      "\n",
      "Successfully Data Read\n"
     ]
    }
   ],
   "source": [
    "# Load the dataset\n",
    "\n",
    "df = spark.read.format(\"csv\").option(\"header\", True).option(\"inferSchema\", True).load('listenings.csv')\n",
    "df.show()\n",
    "print(\"Successfully Data Read\")"
   ]
  },
  {
   "cell_type": "markdown",
   "id": "0ec7a3fc",
   "metadata": {},
   "source": [
    "### Data Clean"
   ]
  },
  {
   "cell_type": "code",
   "execution_count": 18,
   "id": "2dc68fc0",
   "metadata": {},
   "outputs": [
    {
     "name": "stdout",
     "output_type": "stream",
     "text": [
      "+-----------+--------------------+---------------+--------------------+\n",
      "|    user_id|               track|         artist|               album|\n",
      "+-----------+--------------------+---------------+--------------------+\n",
      "|000Silenced|           Price Tag|       Jessie J|         Who You Are|\n",
      "|000Silenced|Price Tag (Acoust...|       Jessie J|           Price Tag|\n",
      "|000Silenced|Be Mine! (Ballad ...|          Robyn|            Be Mine!|\n",
      "|000Silenced|            Acapella|          Kelis|            Acapella|\n",
      "|000Silenced|   I'm Not Invisible|      The Tease|   I'm Not Invisible|\n",
      "|000Silenced|Bounce (Feat NORE...|       MSTRKRFT|         Fist of God|\n",
      "|000Silenced|Don't Stop The Mu...|        Rihanna|Addicted 2 Bassli...|\n",
      "|000Silenced|               ObZen|      Meshuggah|               ObZen|\n",
      "|000Silenced|   Yama's Messengers|         Gojira|The Way of All Flesh|\n",
      "|000Silenced|On the Brink of E...|   Napalm Death|Time Waits For No...|\n",
      "|000Silenced|On the Brink of E...|   Napalm Death|Time Waits For No...|\n",
      "|000Silenced|        In Deference|   Napalm Death|      Smear Campaign|\n",
      "|000Silenced|      Post(?)organic|    Decapitated|Organic Hallucinosis|\n",
      "|000Silenced|        Mind Feeders|   Dom & Roland| No Strings Attached|\n",
      "|000Silenced|Necrosadistic War...|Cannibal Corpse|                Kill|\n",
      "|000Silenced|     Dance All Night|   Dom & Roland|          Chronology|\n",
      "|000Silenced|          Late Night|   Dom & Roland|          Chronology|\n",
      "|000Silenced|          Freak Seen|   Dom & Roland|          Chronology|\n",
      "|000Silenced|Paradrenasite (Hi...|   Dom & Roland|          Chronology|\n",
      "|000Silenced|               Rhino|   Dom & Roland|          Chronology|\n",
      "+-----------+--------------------+---------------+--------------------+\n",
      "only showing top 20 rows\n",
      "\n"
     ]
    }
   ],
   "source": [
    "# Drop Date Column in Dataset\n",
    "df = df.drop(\"date\")\n",
    "df.show()"
   ]
  },
  {
   "cell_type": "code",
   "execution_count": 19,
   "id": "cb0a52ee",
   "metadata": {},
   "outputs": [
    {
     "name": "stdout",
     "output_type": "stream",
     "text": [
      "+-----------+--------------------+---------------+--------------------+\n",
      "|    user_id|               track|         artist|               album|\n",
      "+-----------+--------------------+---------------+--------------------+\n",
      "|000Silenced|           Price Tag|       Jessie J|         Who You Are|\n",
      "|000Silenced|Price Tag (Acoust...|       Jessie J|           Price Tag|\n",
      "|000Silenced|Be Mine! (Ballad ...|          Robyn|            Be Mine!|\n",
      "|000Silenced|            Acapella|          Kelis|            Acapella|\n",
      "|000Silenced|   I'm Not Invisible|      The Tease|   I'm Not Invisible|\n",
      "|000Silenced|Bounce (Feat NORE...|       MSTRKRFT|         Fist of God|\n",
      "|000Silenced|Don't Stop The Mu...|        Rihanna|Addicted 2 Bassli...|\n",
      "|000Silenced|               ObZen|      Meshuggah|               ObZen|\n",
      "|000Silenced|   Yama's Messengers|         Gojira|The Way of All Flesh|\n",
      "|000Silenced|On the Brink of E...|   Napalm Death|Time Waits For No...|\n",
      "|000Silenced|On the Brink of E...|   Napalm Death|Time Waits For No...|\n",
      "|000Silenced|        In Deference|   Napalm Death|      Smear Campaign|\n",
      "|000Silenced|      Post(?)organic|    Decapitated|Organic Hallucinosis|\n",
      "|000Silenced|        Mind Feeders|   Dom & Roland| No Strings Attached|\n",
      "|000Silenced|Necrosadistic War...|Cannibal Corpse|                Kill|\n",
      "|000Silenced|     Dance All Night|   Dom & Roland|          Chronology|\n",
      "|000Silenced|          Late Night|   Dom & Roland|          Chronology|\n",
      "|000Silenced|          Freak Seen|   Dom & Roland|          Chronology|\n",
      "|000Silenced|Paradrenasite (Hi...|   Dom & Roland|          Chronology|\n",
      "|000Silenced|               Rhino|   Dom & Roland|          Chronology|\n",
      "+-----------+--------------------+---------------+--------------------+\n",
      "only showing top 20 rows\n",
      "\n"
     ]
    }
   ],
   "source": [
    "# Drop NaN Values in Dataset\n",
    "df = df.na.drop()\n",
    "df.show()"
   ]
  },
  {
   "cell_type": "code",
   "execution_count": 20,
   "id": "2270ef05",
   "metadata": {},
   "outputs": [
    {
     "name": "stdout",
     "output_type": "stream",
     "text": [
      "13758905 4\n"
     ]
    }
   ],
   "source": [
    "# Count Rows & Coulmns\n",
    "\n",
    "row_numbers = df.count()\n",
    "column_numbers = len(df.columns)\n",
    "print(row_numbers, column_numbers)"
   ]
  },
  {
   "cell_type": "markdown",
   "id": "2baac250",
   "metadata": {},
   "source": [
    "### Perform Some Aggregation"
   ]
  },
  {
   "cell_type": "code",
   "execution_count": 21,
   "id": "500c5dc7",
   "metadata": {},
   "outputs": [
    {
     "name": "stdout",
     "output_type": "stream",
     "text": [
      "+-------+--------------------+-----+\n",
      "|user_id|               track|count|\n",
      "+-------+--------------------+-----+\n",
      "| --Seph|In the Nothing of...|    2|\n",
      "| --Seph|        Window Blues|    1|\n",
      "| --Seph|               Julia|    1|\n",
      "| --Seph|Hungarian Rhapsod...|    1|\n",
      "| --Seph|     The Way We Were|    1|\n",
      "| --Seph|Vestido Estampado...|    1|\n",
      "| --Seph|         The Embrace|    1|\n",
      "| --Seph|      Hour for magic|    2|\n",
      "| --Seph|       Life On Mars?|    1|\n",
      "| --Seph| Air on the G String|    1|\n",
      "| --Seph|   Summa for Strings|    1|\n",
      "| --Seph|              Monday|    1|\n",
      "| --Seph|Belina (Original ...|    1|\n",
      "| --Seph| White Winter Hymnal|    3|\n",
      "| --Seph|          Paris 2004|    7|\n",
      "| --Seph|       Phantom Pt II|    1|\n",
      "| --Seph|Airplanes [feat H...|    1|\n",
      "| --Seph|  California Waiting|    1|\n",
      "| --Seph|Hungarian Dance No 5|    1|\n",
      "| --Seph|Virus (Luke Fair ...|    1|\n",
      "+-------+--------------------+-----+\n",
      "only showing top 20 rows\n",
      "\n"
     ]
    }
   ],
   "source": [
    "df_agr = df.select(\"user_id\", \"track\").groupby(\"user_id\", \"track\").agg(count(\"*\").alias(\"count\")).orderBy(\"user_id\")\n",
    "df_agr.show()"
   ]
  },
  {
   "cell_type": "code",
   "execution_count": 22,
   "id": "ba52e35b",
   "metadata": {},
   "outputs": [
    {
     "name": "stdout",
     "output_type": "stream",
     "text": [
      "9930128 3\n"
     ]
    }
   ],
   "source": [
    "row_numbers = df_agr.count()\n",
    "column_numbers = len(df_agr.columns)\n",
    "print(row_numbers, column_numbers)"
   ]
  },
  {
   "cell_type": "code",
   "execution_count": 23,
   "id": "c05e051d",
   "metadata": {},
   "outputs": [],
   "source": [
    "df_agr = df_agr.limit(50000)"
   ]
  },
  {
   "cell_type": "markdown",
   "id": "aa286a0f",
   "metadata": {},
   "source": [
    "### Convert The User_Id & Track Column Into Unique Integers"
   ]
  },
  {
   "cell_type": "code",
   "execution_count": 25,
   "id": "23ab8ea2",
   "metadata": {},
   "outputs": [
    {
     "name": "stdout",
     "output_type": "stream",
     "text": [
      "+-------+--------------------+-----+-----------+-------------+\n",
      "|user_id|               track|count|track_index|user_id_index|\n",
      "+-------+--------------------+-----+-----------+-------------+\n",
      "| --Seph|Virus (Luke Fair ...|    1|    35316.0|        171.0|\n",
      "| --Seph| White Winter Hymnal|    3|      213.0|        171.0|\n",
      "| --Seph|Airplanes [feat H...|    1|     2603.0|        171.0|\n",
      "| --Seph|Belina (Original ...|    1|     9436.0|        171.0|\n",
      "| --Seph|              Monday|    1|     1866.0|        171.0|\n",
      "| --Seph|Hungarian Dance No 5|    1|     3936.0|        171.0|\n",
      "| --Seph|       Life On Mars?|    1|      297.0|        171.0|\n",
      "| --Seph|  California Waiting|    1|     1335.0|        171.0|\n",
      "| --Seph|       Phantom Pt II|    1|     4973.0|        171.0|\n",
      "| --Seph|      Hour for magic|    2|    18143.0|        171.0|\n",
      "| --Seph|   Summa for Strings|    1|    31010.0|        171.0|\n",
      "| --Seph|Hungarian Rhapsod...|    1|    18281.0|        171.0|\n",
      "| --Seph|     The Way We Were|    1|    33435.0|        171.0|\n",
      "| --Seph| Air on the G String|    1|     7718.0|        171.0|\n",
      "| --Seph|Vestido Estampado...|    1|    35230.0|        171.0|\n",
      "| --Seph|        Window Blues|    1|     6277.0|        171.0|\n",
      "| --Seph|               Leloo|    1|    21408.0|        171.0|\n",
      "| --Seph|          Paris 2004|    7|    26079.0|        171.0|\n",
      "| --Seph|         The Embrace|    1|    32295.0|        171.0|\n",
      "| --Seph|Chelsea Hotel - L...|    1|    11352.0|        171.0|\n",
      "+-------+--------------------+-----+-----------+-------------+\n",
      "only showing top 20 rows\n",
      "\n"
     ]
    }
   ],
   "source": [
    "indexer = [StringIndexer(inputCol=col, outputCol=col+'_index').fit(df_agr) for col in list(set(df_agr.columns) - set(['count']))]\n",
    "\n",
    "pipeline = Pipeline(stages=indexer)\n",
    "data = pipeline.fit(df_agr).transform(df_agr)\n",
    "data.show()"
   ]
  },
  {
   "cell_type": "code",
   "execution_count": 26,
   "id": "4777eeeb",
   "metadata": {},
   "outputs": [
    {
     "name": "stdout",
     "output_type": "stream",
     "text": [
      "+-------------+-----------+-----+\n",
      "|user_id_index|track_index|count|\n",
      "+-------------+-----------+-----+\n",
      "|          0.0|    16801.0|    1|\n",
      "|          0.0|     1114.0|    1|\n",
      "|          0.0|    26200.0|    1|\n",
      "|          0.0|    36046.0|    1|\n",
      "|          0.0|    11628.0|    1|\n",
      "|          0.0|     3480.0|    1|\n",
      "|          0.0|    28739.0|    1|\n",
      "|          0.0|    11912.0|    1|\n",
      "|          0.0|    29071.0|    1|\n",
      "|          0.0|    26510.0|    1|\n",
      "|          0.0|    35136.0|    1|\n",
      "|          0.0|     3951.0|    1|\n",
      "|          0.0|    18882.0|    1|\n",
      "|          0.0|    29384.0|    1|\n",
      "|          0.0|    23775.0|    1|\n",
      "|          0.0|     8592.0|    1|\n",
      "|          0.0|     9659.0|    1|\n",
      "|          0.0|    12023.0|    1|\n",
      "|          0.0|    11778.0|    1|\n",
      "|          0.0|    14996.0|    1|\n",
      "+-------------+-----------+-----+\n",
      "only showing top 20 rows\n",
      "\n"
     ]
    }
   ],
   "source": [
    "data = data.select(\"user_id_index\", \"track_index\", \"count\").orderBy(\"user_id_index\")\n",
    "data.show()"
   ]
  },
  {
   "cell_type": "markdown",
   "id": "f953160d",
   "metadata": {},
   "source": [
    "### Train & Test Data"
   ]
  },
  {
   "cell_type": "code",
   "execution_count": 27,
   "id": "9590b775",
   "metadata": {},
   "outputs": [],
   "source": [
    "(training, test) = data.randomSplitplitSplitomSplitdomSplit([0.5, 0.5])"
   ]
  },
  {
   "cell_type": "markdown",
   "id": "e0cfee98",
   "metadata": {},
   "source": [
    "### Create Model"
   ]
  },
  {
   "cell_type": "code",
   "execution_count": 30,
   "id": "72461676",
   "metadata": {},
   "outputs": [],
   "source": [
    "USERID = \"user_id_index\"\n",
    "TRACK = \"track_index\"\n",
    "COUNT = \"count\"\n",
    "\n",
    "als = ALS(maxIter=5, regParam=0.01, userCol=USERID, itemCol=TRACK, ratingCol=COUNT)\n",
    "model = als.fit(training)"
   ]
  },
  {
   "cell_type": "code",
   "execution_count": 31,
   "id": "048f3fd0",
   "metadata": {},
   "outputs": [],
   "source": [
    "# Prediction\n",
    "prediction = model.transform(test)"
   ]
  },
  {
   "cell_type": "markdown",
   "id": "d8d22272",
   "metadata": {},
   "source": [
    "### Generate Top 10 Recommendation For Each User"
   ]
  },
  {
   "cell_type": "code",
   "execution_count": 32,
   "id": "86a965df",
   "metadata": {},
   "outputs": [
    {
     "name": "stdout",
     "output_type": "stream",
     "text": [
      "+-------------+--------------------+\n",
      "|user_id_index|     recommendations|\n",
      "+-------------+--------------------+\n",
      "|          148|[{37408, 17.98018...|\n",
      "|          243|[{7766, 7.363263}...|\n",
      "|           31|[{19458, 16.71079...|\n",
      "|          251|[{59, 21.859558},...|\n",
      "|           85|[{28192, 16.81901...|\n",
      "|          137|[{13575, 10.23010...|\n",
      "|           65|[{13575, 9.84371}...|\n",
      "|           53|[{19458, 18.22799...|\n",
      "|          255|[{23666, 8.808033...|\n",
      "|          133|[{23666, 25.55483...|\n",
      "|          296|[{29295, 10.99125...|\n",
      "|          322|[{23666, 26.89952...|\n",
      "|           78|[{17709, 27.62168...|\n",
      "|          321|[{27269, 12.46993...|\n",
      "|          362|[{59, 17.534376},...|\n",
      "|          155|[{17709, 17.73564...|\n",
      "|          108|[{23666, 9.553433...|\n",
      "|          211|[{23666, 24.41329...|\n",
      "|          193|[{59, 21.473232},...|\n",
      "|           34|[{59, 10.148405},...|\n",
      "+-------------+--------------------+\n",
      "only showing top 20 rows\n",
      "\n"
     ]
    }
   ],
   "source": [
    "recommend = model.recommendForAllUsers(10)\n",
    "recommend.show()"
   ]
  },
  {
   "cell_type": "code",
   "execution_count": 36,
   "id": "d302114d",
   "metadata": {},
   "outputs": [
    {
     "data": {
      "text/plain": [
       "[Row(user_id_index=148, recommendations=[Row(track_index=37408, rating=17.980186462402344), Row(track_index=59, rating=8.915945053100586), Row(track_index=19458, rating=7.45954704284668), Row(track_index=1192, rating=7.213980197906494), Row(track_index=787, rating=7.069788932800293), Row(track_index=477, rating=5.499311923980713), Row(track_index=252, rating=5.364506244659424), Row(track_index=5321, rating=5.324398994445801), Row(track_index=28192, rating=5.189373016357422), Row(track_index=34417, rating=5.020595073699951)])]"
      ]
     },
     "execution_count": 36,
     "metadata": {},
     "output_type": "execute_result"
    }
   ],
   "source": [
    "recommend.take(1)"
   ]
  },
  {
   "cell_type": "code",
   "execution_count": null,
   "id": "2096ca1d",
   "metadata": {},
   "outputs": [],
   "source": []
  }
 ],
 "metadata": {
  "kernelspec": {
   "display_name": "Python 3 (ipykernel)",
   "language": "python",
   "name": "python3"
  },
  "language_info": {
   "codemirror_mode": {
    "name": "ipython",
    "version": 3
   },
   "file_extension": ".py",
   "mimetype": "text/x-python",
   "name": "python",
   "nbconvert_exporter": "python",
   "pygments_lexer": "ipython3",
   "version": "3.9.6"
  }
 },
 "nbformat": 4,
 "nbformat_minor": 5
}
